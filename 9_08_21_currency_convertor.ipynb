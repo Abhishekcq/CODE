{
  "nbformat": 4,
  "nbformat_minor": 0,
  "metadata": {
    "colab": {
      "name": "9/08/21_currency_convertor.ipynb",
      "provenance": [],
      "authorship_tag": "ABX9TyN9eHHtERILDttH2xEkQgjy",
      "include_colab_link": true
    },
    "kernelspec": {
      "name": "python3",
      "display_name": "Python 3"
    },
    "language_info": {
      "name": "python"
    }
  },
  "cells": [
    {
      "cell_type": "markdown",
      "metadata": {
        "id": "view-in-github",
        "colab_type": "text"
      },
      "source": [
        "<a href=\"https://colab.research.google.com/github/Abhishekcq/CODE/blob/main/9_08_21_currency_convertor.ipynb\" target=\"_parent\"><img src=\"https://colab.research.google.com/assets/colab-badge.svg\" alt=\"Open In Colab\"/></a>"
      ]
    },
    {
      "cell_type": "code",
      "execution_count": 1,
      "metadata": {
        "colab": {
          "base_uri": "https://localhost:8080/"
        },
        "id": "l7sLyAwAsP6R",
        "outputId": "b6f9bf30-5a60-412a-8d16-713e897358a0"
      },
      "outputs": [
        {
          "output_type": "stream",
          "name": "stdout",
          "text": [
            "Collecting forex-python\n",
            "  Downloading forex_python-1.8-py3-none-any.whl (8.2 kB)\n",
            "Requirement already satisfied: requests in /usr/local/lib/python3.7/dist-packages (from forex-python) (2.23.0)\n",
            "Collecting simplejson\n",
            "  Downloading simplejson-3.17.6-cp37-cp37m-manylinux_2_5_x86_64.manylinux1_x86_64.manylinux_2_12_x86_64.manylinux2010_x86_64.whl (130 kB)\n",
            "\u001b[K     |████████████████████████████████| 130 kB 16.5 MB/s \n",
            "\u001b[?25hRequirement already satisfied: certifi>=2017.4.17 in /usr/local/lib/python3.7/dist-packages (from requests->forex-python) (2021.10.8)\n",
            "Requirement already satisfied: chardet<4,>=3.0.2 in /usr/local/lib/python3.7/dist-packages (from requests->forex-python) (3.0.4)\n",
            "Requirement already satisfied: idna<3,>=2.5 in /usr/local/lib/python3.7/dist-packages (from requests->forex-python) (2.10)\n",
            "Requirement already satisfied: urllib3!=1.25.0,!=1.25.1,<1.26,>=1.21.1 in /usr/local/lib/python3.7/dist-packages (from requests->forex-python) (1.24.3)\n",
            "Installing collected packages: simplejson, forex-python\n",
            "Successfully installed forex-python-1.8 simplejson-3.17.6\n"
          ]
        }
      ],
      "source": [
        "pip install forex-python"
      ]
    },
    {
      "cell_type": "code",
      "source": [
        "from forex_python.converter import *"
      ],
      "metadata": {
        "id": "Y2VsWLMqsiY8"
      },
      "execution_count": 5,
      "outputs": []
    },
    {
      "cell_type": "code",
      "source": [
        "from forex_python.converter import CurrencyRates\n",
        "con = CurrencyRates()\n",
        "amount = int(input(\"Enter the amount: \"))\n",
        "from_currency = input(\"From Currency: \").upper()\n",
        "to_currency = input(\"To Currency: \").upper()\n",
        "print(from_currency, \" To \", to_currency, amount)\n",
        "result = con.convert(from_currency, to_currency, amount)\n",
        "print(result)"
      ],
      "metadata": {
        "colab": {
          "base_uri": "https://localhost:8080/"
        },
        "id": "ll8I0TsDtqP0",
        "outputId": "cbd945f7-a540-4426-b2a6-fae2b1f57d12"
      },
      "execution_count": 9,
      "outputs": [
        {
          "output_type": "stream",
          "name": "stdout",
          "text": [
            "Enter the amount: 3456\n",
            "From Currency: inr\n",
            "To Currency: usd\n",
            "INR  To  USD 3456\n",
            "46.45718144019711\n"
          ]
        }
      ]
    },
    {
      "cell_type": "code",
      "source": [
        ""
      ],
      "metadata": {
        "id": "x5NSZWKqt4EY"
      },
      "execution_count": null,
      "outputs": []
    }
  ]
}